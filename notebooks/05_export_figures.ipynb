{
  "cells": [
    {
      "cell_type": "markdown",
      "metadata": {},
      "source": [
        "# 05 – Export README Figures\n",
        "\n",
        "Exports **probability** and **uncertainty** maps as PNGs into the `figures/` folder for your README.\n",
        "Run `04_bayesian_logreg.ipynb` first to generate `mean_probs.npy` and `std_probs.npy`."
      ]
    },
    {
      "cell_type": "code",
      "execution_count": 11,
      "metadata": {},
      "outputs": [
        {
          "name": "stdout",
          "output_type": "stream",
          "text": [
            "Note: you may need to restart the kernel to use updated packages.\n"
          ]
        }
      ],
      "source": [
        "%pip install -q -r ../requirements.txt"
      ]
    },
    {
      "cell_type": "code",
      "execution_count": 12,
      "metadata": {},
      "outputs": [
        {
          "name": "stdout",
          "output_type": "stream",
          "text": [
            "Saved figures/probability_mean.png and figures/uncertainty_std.png\n"
          ]
        }
      ],
      "source": [
        "import numpy as np\n",
        "import joblib\n",
        "from pathlib import Path\n",
        "import matplotlib.pyplot as plt\n",
        "from pathlib import Path\n",
        "import sys\n",
        "\n",
        "# Add the project root to sys.path so 'src' can be imported\n",
        "project_root = Path.cwd().parent\n",
        "if str(project_root) not in sys.path:\n",
        "\tsys.path.append(str(project_root))\n",
        " \n",
        "from src.models import train_baseline_rf\n",
        "from src.visualization import plot_probability_map\n",
        "\n",
        "\n",
        "from src.visualization import plot_probability_map\n",
        "\n",
        "grid = joblib.load(project_root / 'data/processed/grid_gdf.joblib')\n",
        "mean_probs = np.load(project_root / 'data/processed/mean_probs.npy')\n",
        "std_probs = np.load(project_root / 'data/processed/std_probs.npy')\n",
        "\n",
        "Path('figures').mkdir(exist_ok=True)\n",
        "fig, ax = plot_probability_map(grid, mean_probs, title='Bayesian Logistic Regression – Mean Probability')\n",
        "fig.savefig(project_root / 'figures/probability_mean.png', dpi=180, bbox_inches='tight')\n",
        "plt.close(fig)\n",
        "\n",
        "fig, ax = plot_probability_map(grid, std_probs, title='Bayesian Logistic Regression – Uncertainty (Std Dev)')\n",
        "fig.savefig(project_root / 'figures/uncertainty_std.png', dpi=180, bbox_inches='tight')\n",
        "plt.close(fig)\n",
        "print('Saved figures/probability_mean.png and figures/uncertainty_std.png')\n"
      ]
    }
  ],
  "metadata": {
    "kernelspec": {
      "display_name": "cpu",
      "language": "python",
      "name": "python3"
    },
    "language_info": {
      "codemirror_mode": {
        "name": "ipython",
        "version": 3
      },
      "file_extension": ".py",
      "mimetype": "text/x-python",
      "name": "python",
      "nbconvert_exporter": "python",
      "pygments_lexer": "ipython3",
      "version": "3.13.1"
    }
  },
  "nbformat": 4,
  "nbformat_minor": 5
}
