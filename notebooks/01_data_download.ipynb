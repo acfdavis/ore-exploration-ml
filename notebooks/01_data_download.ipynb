{
  "cells": [
    {
      "cell_type": "markdown",
      "metadata": {},
      "source": [
        "# 01 – Data Download & Quick EDA\n",
        "\n",
        "This notebook downloads **USGS MRDS** occurrences and filters by state.\n"
      ]
    },
    {
      "cell_type": "code",
      "execution_count": 5,
      "id": "369a6253",
      "metadata": {},
      "outputs": [
        {
          "name": "stdout",
          "output_type": "stream",
          "text": [
            "Note: you may need to restart the kernel to use updated packages.\n"
          ]
        }
      ],
      "source": [
        "%pip install -q -r ../requirements.txt\n"
      ]
    },
    {
      "cell_type": "code",
      "execution_count": 6,
      "id": "687aca58",
      "metadata": {},
      "outputs": [
        {
          "name": "stdout",
          "output_type": "stream",
          "text": [
            "Requirement already satisfied: geopandas in c:\\users\\angel\\.ai-navigator\\micromamba\\envs\\cpu\\lib\\site-packages (1.1.1)\n",
            "Requirement already satisfied: numpy>=1.24 in c:\\users\\angel\\.ai-navigator\\micromamba\\envs\\cpu\\lib\\site-packages (from geopandas) (2.1.3)\n",
            "Requirement already satisfied: pyogrio>=0.7.2 in c:\\users\\angel\\.ai-navigator\\micromamba\\envs\\cpu\\lib\\site-packages (from geopandas) (0.11.1)\n",
            "Requirement already satisfied: packaging in c:\\users\\angel\\appdata\\roaming\\python\\python313\\site-packages (from geopandas) (25.0)\n",
            "Requirement already satisfied: pandas>=2.0.0 in c:\\users\\angel\\.ai-navigator\\micromamba\\envs\\cpu\\lib\\site-packages (from geopandas) (2.2.3)\n",
            "Requirement already satisfied: pyproj>=3.5.0 in c:\\users\\angel\\.ai-navigator\\micromamba\\envs\\cpu\\lib\\site-packages (from geopandas) (3.7.2)\n",
            "Requirement already satisfied: shapely>=2.0.0 in c:\\users\\angel\\.ai-navigator\\micromamba\\envs\\cpu\\lib\\site-packages (from geopandas) (2.1.1)\n",
            "Requirement already satisfied: python-dateutil>=2.8.2 in c:\\users\\angel\\appdata\\roaming\\python\\python313\\site-packages (from pandas>=2.0.0->geopandas) (2.9.0.post0)\n",
            "Requirement already satisfied: pytz>=2020.1 in c:\\users\\angel\\.ai-navigator\\micromamba\\envs\\cpu\\lib\\site-packages (from pandas>=2.0.0->geopandas) (2024.1)\n",
            "Requirement already satisfied: tzdata>=2022.7 in c:\\users\\angel\\.ai-navigator\\micromamba\\envs\\cpu\\lib\\site-packages (from pandas>=2.0.0->geopandas) (2025.2)\n",
            "Requirement already satisfied: certifi in c:\\users\\angel\\.ai-navigator\\micromamba\\envs\\cpu\\lib\\site-packages (from pyogrio>=0.7.2->geopandas) (2025.4.26)\n",
            "Requirement already satisfied: six>=1.5 in c:\\users\\angel\\.ai-navigator\\micromamba\\envs\\cpu\\lib\\site-packages (from python-dateutil>=2.8.2->pandas>=2.0.0->geopandas) (1.17.0)\n",
            "Note: you may need to restart the kernel to use updated packages.\n",
            "Loaded MRDS rows: 12907 for state Missouri\n"
          ]
        },
        {
          "data": {
            "text/plain": [
              "WindowsPath('C:/Users/angel/ore-exploration-ml/ore-exploration-ml/data/processed/mrds_Missouri.gpkg')"
            ]
          },
          "execution_count": 6,
          "metadata": {},
          "output_type": "execute_result"
        }
      ],
      "source": [
        "%pip install geopandas\n",
        "\n",
        "from pathlib import Path\n",
        "import pandas as pd\n",
        "import geopandas as gpd\n",
        "import sys\n",
        "\n",
        "# Add the project root to sys.path so 'src' can be imported\n",
        "project_root = Path.cwd().parent\n",
        "if str(project_root) not in sys.path:\n",
        "\tsys.path.append(str(project_root))\n",
        "\n",
        "from src.data_utils import load_mrds_geodata, save_gdf, bounding_box_for_state\n",
        "\n",
        "STATE = \"Missouri\"\n",
        "\n",
        "gdf_mrds = load_mrds_geodata(STATE)\n",
        "print(f\"Loaded MRDS rows: {len(gdf_mrds)} for state {STATE}\")\n",
        "out_path = save_gdf(gdf_mrds, f\"mrds_{STATE}\")\n",
        "out_path\n"
      ]
    },
    {
      "cell_type": "code",
      "execution_count": 7,
      "id": "5e6d7bae",
      "metadata": {},
      "outputs": [
        {
          "data": {
            "application/vnd.microsoft.datawrangler.viewer.v0+json": {
              "columns": [
                {
                  "name": "commodity",
                  "rawType": "object",
                  "type": "string"
                },
                {
                  "name": "count",
                  "rawType": "int64",
                  "type": "integer"
                }
              ],
              "ref": "58b4da26-e850-4447-ab30-4cce92aeb848",
              "rows": [
                [
                  "Stone, Crushed/Broken",
                  "3305"
                ],
                [
                  "Lead, Zinc",
                  "1753"
                ],
                [
                  "Fire Clay (Refractory)",
                  "1751"
                ],
                [
                  "Zinc, Lead",
                  "1548"
                ],
                [
                  "Iron",
                  "1527"
                ],
                [
                  "Sand and Gravel, Construction",
                  "822"
                ],
                [
                  "Lead",
                  "612"
                ],
                [
                  "Clay",
                  "525"
                ],
                [
                  "Barium-Barite",
                  "404"
                ],
                [
                  "Zinc",
                  "139"
                ],
                [
                  "Copper",
                  "65"
                ],
                [
                  "Barium-Barite, Lead",
                  "60"
                ],
                [
                  "Manganese",
                  "48"
                ],
                [
                  "Limestone, Dimension",
                  "32"
                ],
                [
                  "Silica",
                  "28"
                ],
                [
                  "Barium-Barite, Lead, Zinc",
                  "26"
                ],
                [
                  "Lead, Barium-Barite",
                  "23"
                ],
                [
                  "Sulfur-Pyrite",
                  "23"
                ],
                [
                  "Flagstone",
                  "18"
                ],
                [
                  "Granite",
                  "12"
                ]
              ],
              "shape": {
                "columns": 1,
                "rows": 20
              }
            },
            "text/html": [
              "<div>\n",
              "<style scoped>\n",
              "    .dataframe tbody tr th:only-of-type {\n",
              "        vertical-align: middle;\n",
              "    }\n",
              "\n",
              "    .dataframe tbody tr th {\n",
              "        vertical-align: top;\n",
              "    }\n",
              "\n",
              "    .dataframe thead th {\n",
              "        text-align: right;\n",
              "    }\n",
              "</style>\n",
              "<table border=\"1\" class=\"dataframe\">\n",
              "  <thead>\n",
              "    <tr style=\"text-align: right;\">\n",
              "      <th></th>\n",
              "      <th>count</th>\n",
              "    </tr>\n",
              "    <tr>\n",
              "      <th>commodity</th>\n",
              "      <th></th>\n",
              "    </tr>\n",
              "  </thead>\n",
              "  <tbody>\n",
              "    <tr>\n",
              "      <th>Stone, Crushed/Broken</th>\n",
              "      <td>3305</td>\n",
              "    </tr>\n",
              "    <tr>\n",
              "      <th>Lead, Zinc</th>\n",
              "      <td>1753</td>\n",
              "    </tr>\n",
              "    <tr>\n",
              "      <th>Fire Clay (Refractory)</th>\n",
              "      <td>1751</td>\n",
              "    </tr>\n",
              "    <tr>\n",
              "      <th>Zinc, Lead</th>\n",
              "      <td>1548</td>\n",
              "    </tr>\n",
              "    <tr>\n",
              "      <th>Iron</th>\n",
              "      <td>1527</td>\n",
              "    </tr>\n",
              "    <tr>\n",
              "      <th>Sand and Gravel, Construction</th>\n",
              "      <td>822</td>\n",
              "    </tr>\n",
              "    <tr>\n",
              "      <th>Lead</th>\n",
              "      <td>612</td>\n",
              "    </tr>\n",
              "    <tr>\n",
              "      <th>Clay</th>\n",
              "      <td>525</td>\n",
              "    </tr>\n",
              "    <tr>\n",
              "      <th>Barium-Barite</th>\n",
              "      <td>404</td>\n",
              "    </tr>\n",
              "    <tr>\n",
              "      <th>Zinc</th>\n",
              "      <td>139</td>\n",
              "    </tr>\n",
              "    <tr>\n",
              "      <th>Copper</th>\n",
              "      <td>65</td>\n",
              "    </tr>\n",
              "    <tr>\n",
              "      <th>Barium-Barite, Lead</th>\n",
              "      <td>60</td>\n",
              "    </tr>\n",
              "    <tr>\n",
              "      <th>Manganese</th>\n",
              "      <td>48</td>\n",
              "    </tr>\n",
              "    <tr>\n",
              "      <th>Limestone, Dimension</th>\n",
              "      <td>32</td>\n",
              "    </tr>\n",
              "    <tr>\n",
              "      <th>Silica</th>\n",
              "      <td>28</td>\n",
              "    </tr>\n",
              "    <tr>\n",
              "      <th>Barium-Barite, Lead, Zinc</th>\n",
              "      <td>26</td>\n",
              "    </tr>\n",
              "    <tr>\n",
              "      <th>Lead, Barium-Barite</th>\n",
              "      <td>23</td>\n",
              "    </tr>\n",
              "    <tr>\n",
              "      <th>Sulfur-Pyrite</th>\n",
              "      <td>23</td>\n",
              "    </tr>\n",
              "    <tr>\n",
              "      <th>Flagstone</th>\n",
              "      <td>18</td>\n",
              "    </tr>\n",
              "    <tr>\n",
              "      <th>Granite</th>\n",
              "      <td>12</td>\n",
              "    </tr>\n",
              "  </tbody>\n",
              "</table>\n",
              "</div>"
            ],
            "text/plain": [
              "                               count\n",
              "commodity                           \n",
              "Stone, Crushed/Broken           3305\n",
              "Lead, Zinc                      1753\n",
              "Fire Clay (Refractory)          1751\n",
              "Zinc, Lead                      1548\n",
              "Iron                            1527\n",
              "Sand and Gravel, Construction    822\n",
              "Lead                             612\n",
              "Clay                             525\n",
              "Barium-Barite                    404\n",
              "Zinc                             139\n",
              "Copper                            65\n",
              "Barium-Barite, Lead               60\n",
              "Manganese                         48\n",
              "Limestone, Dimension              32\n",
              "Silica                            28\n",
              "Barium-Barite, Lead, Zinc         26\n",
              "Lead, Barium-Barite               23\n",
              "Sulfur-Pyrite                     23\n",
              "Flagstone                         18\n",
              "Granite                           12"
            ]
          },
          "execution_count": 7,
          "metadata": {},
          "output_type": "execute_result"
        }
      ],
      "source": [
        "# Quick EDA – inspect top commodities and basic counts\n",
        "gdf_mrds['commodity'] = gdf_mrds['commodity'].fillna('Unknown')\n",
        "top = (\n",
        "    gdf_mrds['commodity']\n",
        "    .str.split(';')\n",
        "    .explode()\n",
        "    .str.strip()\n",
        "    .value_counts()\n",
        "    .head(20)\n",
        ")\n",
        "top.to_frame(name='count')\n"
      ]
    },
    {
      "cell_type": "code",
      "execution_count": 8,
      "id": "f5983904",
      "metadata": {},
      "outputs": [
        {
          "data": {
            "text/plain": [
              "(np.float64(-95.97858),\n",
              " np.float64(36.14839),\n",
              " np.float64(-89.12676),\n",
              " np.float64(40.58562))"
            ]
          },
          "execution_count": 8,
          "metadata": {},
          "output_type": "execute_result"
        }
      ],
      "source": [
        "# Compute a bounding box for the grid we'll build later\n",
        "bbox = bounding_box_for_state(STATE)\n",
        "bbox\n"
      ]
    }
  ],
  "metadata": {
    "kernelspec": {
      "display_name": "cpu",
      "language": "python",
      "name": "python3"
    },
    "language_info": {
      "codemirror_mode": {
        "name": "ipython",
        "version": 3
      },
      "file_extension": ".py",
      "mimetype": "text/x-python",
      "name": "python",
      "nbconvert_exporter": "python",
      "pygments_lexer": "ipython3",
      "version": "3.13.1"
    }
  },
  "nbformat": 4,
  "nbformat_minor": 5
}
