{
  "cells": [
    {
      "cell_type": "markdown",
      "metadata": {},
      "source": [
        "# 02 – Feature Engineering\n",
        "\n",
        "Build a coarse grid and create labels from MRDS presence/absence.\n"
      ]
    },
    {
      "cell_type": "code",
      "execution_count": 1,
      "id": "4b35d769",
      "metadata": {},
      "outputs": [
        {
          "name": "stdout",
          "output_type": "stream",
          "text": [
            "Note: you may need to restart the kernel to use updated packages.\n"
          ]
        }
      ],
      "source": [
        "%pip install -q -r ../requirements.txt\n"
      ]
    },
    {
      "cell_type": "code",
      "execution_count": null,
      "id": "6740a302",
      "metadata": {},
      "outputs": [
        {
          "name": "stdout",
          "output_type": "stream",
          "text": [
            "Saved polygon-masked grid to c:\\Users\\angel\\ore-exploration-ml\\ore-exploration-ml\\data\\processed\\grid_gdf.joblib with 7646 cells\n",
            "Saved data/processed/X_coords.npy (7646, 2)\n"
          ]
        },
        {
          "name": "stderr",
          "output_type": "stream",
          "text": [
            "c:\\Users\\angel\\ore-exploration-ml\\ore-exploration-ml\\src\\features.py:34: UserWarning: Geometry is in a geographic CRS. Results from 'centroid' are likely incorrect. Use 'GeoSeries.to_crs()' to re-project geometries to a projected CRS before this operation.\n",
            "\n",
            "  centroids = grid.geometry.centroid\n"
          ]
        }
      ],
      "source": [
        "# notebooks/02a_build_grid_and_coords.py  (replace your 02a)\n",
        "\n",
        "import os, sys\n",
        "import numpy as np\n",
        "import joblib\n",
        "from pathlib import Path\n",
        "\n",
        "# Make 'src/' importable\n",
        "project_root = Path.cwd().parent\n",
        "if str(project_root) not in sys.path:\n",
        "    sys.path.append(str(project_root))\n",
        "\n",
        "from src.data_utils import state_polygon\n",
        "from src.features import build_grid_from_bbox, grid_centroids\n",
        "\n",
        "STATE = \"Missouri\"\n",
        "GRID_PATH = project_root / \"data/processed/grid_gdf.joblib\"\n",
        "os.makedirs(GRID_PATH.parent, exist_ok=True)\n",
        "\n",
        "# 1) Get accurate state polygon (from geology.gpkg if available; else bbox)\n",
        "poly = state_polygon(STATE)  # returns shapely Polygon/MultiPolygon in EPSG:4326\n",
        "\n",
        "# 2) Build grid on polygon bbox, then mask to polygon\n",
        "bbox = poly.bounds\n",
        "grid = build_grid_from_bbox(bbox)\n",
        "grid = grid[grid.geometry.intersects(poly)].copy().reset_index(drop=True)\n",
        "\n",
        "# 3) Ensure CRS and save grid\n",
        "if grid.crs is None:\n",
        "    grid = grid.set_crs(4326)\n",
        "elif grid.crs.to_epsg() != 4326:\n",
        "    grid = grid.to_crs(4326)\n",
        "\n",
        "joblib.dump(grid, GRID_PATH)\n",
        "print(f\"Saved polygon-masked grid to {GRID_PATH} with {len(grid)} cells\")\n",
        "\n",
        "# 4) Compute coords on *this* grid and save\n",
        "coords = grid_centroids(grid)                      # shape (N,2)\n",
        "np.save(project_root / \"data/processed/X_coords.npy\", coords)\n",
        "print(\"Saved data/processed/X_coords.npy\", coords.shape)\n"
      ]
    }
  ],
  "metadata": {
    "kernelspec": {
      "display_name": "cpu",
      "language": "python",
      "name": "python3"
    },
    "language_info": {
      "codemirror_mode": {
        "name": "ipython",
        "version": 3
      },
      "file_extension": ".py",
      "mimetype": "text/x-python",
      "name": "python",
      "nbconvert_exporter": "python",
      "pygments_lexer": "ipython3",
      "version": "3.13.1"
    }
  },
  "nbformat": 4,
  "nbformat_minor": 5
}
