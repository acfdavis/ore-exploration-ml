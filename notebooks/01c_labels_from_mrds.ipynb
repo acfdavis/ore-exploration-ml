{
 "cells": [
  {
   "cell_type": "markdown",
   "id": "9832cbe0",
   "metadata": {},
   "source": [
    "# 01c — Labels from MRDS (positives per grid cell)\n",
    "\n",
    "This notebook converts **MRDS** point records into **binary labels per grid cell**:\n",
    "- `y=1` if any MRDS point intersects the grid cell  \n",
    "- `y=0` otherwise\n",
    "\n",
    "Options:\n",
    "- Filter to **critical commodities** (Cu, Ni, Co, Li, etc.)\n",
    "- Save final labels to `data/processed/y_labels.npy`\n"
   ]
  },
  {
   "cell_type": "code",
   "execution_count": 1,
   "id": "39f65d69",
   "metadata": {},
   "outputs": [],
   "source": [
    "# 1) Imports & params\n",
    "import os\n",
    "import numpy as np\n",
    "import pandas as pd\n",
    "import geopandas as gpd\n",
    "import joblib\n",
    "import matplotlib.pyplot as plt\n",
    "from shapely.geometry import Point\n",
    "from pathlib import Path\n",
    "import sys\n",
    "\n",
    "# Make 'src/' importable (assumes this notebook lives in notebooks/)\n",
    "project_root = Path.cwd().parent\n",
    "if str(project_root) not in sys.path:\n",
    "    sys.path.append(str(project_root))\n",
    "\n",
    "from src.data_utils import bounding_box_for_state, state_polygon\n",
    "from src.features import build_grid_from_bbox, grid_centroids\n",
    "\n",
    "# ---- Config ----\n",
    "\n",
    "STATE = \"Missouri\"                        # or \"MO\" depending on data_utils\n",
    "MRDS_CSV = project_root / \"data/raw/mrds.csv\"            # your MRDS CSV with the headers you shared\n",
    "FILTER_CRITICAL = True                    # False to use all MRDS\n",
    "CRITICAL_COMMODITIES = {\"CO\",\"CU\",\"NI\",\"CO\",\"LI\"}  # tweak set as needed\n",
    "GRID_PATH = project_root / \"data/processed/grid_gdf.joblib\"  # preferred if you already built the grid\n",
    "SAVE_LABELS_PATH = project_root / \"data/processed/y_labels.npy\"\n",
    "SAVE_FIGURES_PATH = project_root / \"figures\"\n",
    "\n",
    "os.makedirs(GRID_PATH.parent, exist_ok=True)\n",
    "os.makedirs(SAVE_LABELS_PATH.parent, exist_ok=True)\n",
    "os.makedirs(SAVE_FIGURES_PATH, exist_ok=True)\n"
   ]
  },
  {
   "cell_type": "code",
   "execution_count": 2,
   "id": "bf39dbdc",
   "metadata": {},
   "outputs": [
    {
     "name": "stdout",
     "output_type": "stream",
     "text": [
      "Loaded grid from c:\\Users\\angel\\ore-exploration-ml\\ore-exploration-ml\\data\\processed\\grid_gdf.joblib with 7646 cells\n"
     ]
    }
   ],
   "source": [
    "## 2) Load / build grid (polygon-masked)\n",
    "\n",
    "poly = state_polygon(STATE)  # uses data/raw/state_geology.gpkg if available; else falls back to bbox\n",
    "if hasattr(poly, \"geom_type\"):\n",
    "    # shapely Polygon/MultiPolygon; ensure CRS later matches 4326\n",
    "    pass\n",
    "\n",
    "if os.path.exists(GRID_PATH):\n",
    "    grid = joblib.load(GRID_PATH)\n",
    "    print(f\"Loaded grid from {GRID_PATH} with {len(grid)} cells\")\n",
    "\n",
    "    # Ensure the loaded grid is masked to the polygon (older cache may be bbox-only)\n",
    "    n_before = len(grid)\n",
    "    grid = grid[grid.geometry.intersects(poly)].copy().reset_index(drop=True)\n",
    "    if len(grid) != n_before:\n",
    "        print(f\"Masked cached grid to state polygon: {n_before} -> {len(grid)} cells\")\n",
    "        joblib.dump(grid, GRID_PATH)  # overwrite cached grid with masked version\n",
    "else:\n",
    "    print(f\"Grid not found at {GRID_PATH}; building from state polygon for {STATE}\")\n",
    "    # Build on polygon bbox (fast), then mask to polygon (accurate)\n",
    "    bbox = poly.bounds  # (minx, miny, maxx, maxy)\n",
    "    grid = build_grid_from_bbox(bbox)\n",
    "    grid = grid[grid.geometry.intersects(poly)].copy().reset_index(drop=True)\n",
    "    joblib.dump(grid, GRID_PATH)\n",
    "    print(f\"Built and saved polygon-masked grid to {GRID_PATH} with {len(grid)} cells\")\n",
    "\n",
    "# Ensure lat/lon CRS for joins\n",
    "if grid.crs is None:\n",
    "    grid = grid.set_crs(4326)\n",
    "elif grid.crs.to_epsg() != 4326:\n",
    "    grid = grid.to_crs(4326)\n"
   ]
  },
  {
   "cell_type": "code",
   "execution_count": 3,
   "id": "71d24e2f",
   "metadata": {},
   "outputs": [
    {
     "name": "stderr",
     "output_type": "stream",
     "text": [
      "C:\\Users\\angel\\AppData\\Local\\Temp\\ipykernel_48560\\363331474.py:2: DtypeWarning: Columns (3,17,25,26,28,34,35,37,39,41,43,44) have mixed types. Specify dtype option on import or set low_memory=False.\n",
      "  mrds = pd.read_csv(MRDS_CSV)\n"
     ]
    },
    {
     "name": "stdout",
     "output_type": "stream",
     "text": [
      "MRDS rows (raw): 304632\n",
      "MRDS rows (with coords): 304613\n",
      "MRDS rows (sane coords): 304613\n",
      "MRDS rows (critical commodities): 127595\n",
      "MRDS rows (clipped to state bbox): 1687\n"
     ]
    }
   ],
   "source": [
    "## 3) Load MRDS & (optional) commodity filter\n",
    "mrds = pd.read_csv(MRDS_CSV)\n",
    "print(\"MRDS rows (raw):\", len(mrds))\n",
    "\n",
    "# Drop missing coords\n",
    "mrds = mrds.dropna(subset=[\"longitude\",\"latitude\"])\n",
    "print(\"MRDS rows (with coords):\", len(mrds))\n",
    "\n",
    "# Keep reasonable lon/lat bounds\n",
    "mrds = mrds[(mrds[\"longitude\"].between(-180,180)) & (mrds[\"latitude\"].between(-90,90))]\n",
    "print(\"MRDS rows (sane coords):\", len(mrds))\n",
    "\n",
    "# Optional: filter to critical commodities\n",
    "if FILTER_CRITICAL:\n",
    "    def row_has_critical(row):\n",
    "        vals = [str(row.get(c, \"\")).upper() for c in (\"commod1\",\"commod2\",\"commod3\")]\n",
    "        joined = \"|\".join(vals)\n",
    "        return any(com in joined for com in CRITICAL_COMMODITIES)\n",
    "    mrds = mrds[mrds.apply(row_has_critical, axis=1)]\n",
    "    print(\"MRDS rows (critical commodities):\", len(mrds))\n",
    "\n",
    "# Clip to state bbox (avoid out-of-state positives)\n",
    "minx, miny, maxx, maxy = bounding_box_for_state(STATE)\n",
    "mrds = mrds[\n",
    "    mrds[\"longitude\"].between(minx, maxx) &\n",
    "    mrds[\"latitude\"].between(miny, maxy)\n",
    "]\n",
    "print(\"MRDS rows (clipped to state bbox):\", len(mrds))"
   ]
  },
  {
   "cell_type": "code",
   "execution_count": 4,
   "id": "f7182b02",
   "metadata": {},
   "outputs": [
    {
     "name": "stdout",
     "output_type": "stream",
     "text": [
      "MRDS points inside state polygon: 1088\n",
      "Saved labels to c:\\Users\\angel\\ore-exploration-ml\\ore-exploration-ml\\data\\processed\\y_labels.npy\n",
      "Positive cells: 666 of 7646 | Pos rate: 0.08710436829714883\n"
     ]
    }
   ],
   "source": [
    "## 4) Create GeoDataFrame & spatial join to grid\n",
    "# Create points GDF\n",
    "occ = gpd.GeoDataFrame(\n",
    "    mrds,\n",
    "    geometry=gpd.points_from_xy(mrds[\"longitude\"], mrds[\"latitude\"]),\n",
    "    crs=\"EPSG:4326\",\n",
    ")\n",
    "occ = occ[occ.within(poly)].copy()\n",
    "print(\"MRDS points inside state polygon:\", len(occ))\n",
    "\n",
    "\n",
    "# Spatial join — reset grid index so we can group back reliably\n",
    "# NOTE: Requires rtree or pygeos installed for speed (conda-forge: rtree)\n",
    "joined = gpd.sjoin(grid.reset_index(), occ[[\"geometry\"]], how=\"left\", predicate=\"intersects\")\n",
    "\n",
    "# Aggregate back to 1 row per grid cell:\n",
    "# y=1 if any match exists for that cell; else 0\n",
    "y_series = joined.groupby(\"index\")[\"index_right\"].apply(lambda x: int(x.notna().any()))\n",
    "\n",
    "# Align with original grid index/order\n",
    "grid = grid.copy()\n",
    "grid[\"y_label\"] = y_series.reindex(grid.index, fill_value=0).astype(int)\n",
    "\n",
    "# Save labels\n",
    "y = grid[\"y_label\"].values.astype(np.int64)\n",
    "np.save(SAVE_LABELS_PATH, y)\n",
    "print(f\"Saved labels to {SAVE_LABELS_PATH}\")\n",
    "print(\"Positive cells:\", int(y.sum()), \"of\", len(y), \"| Pos rate:\", float(y.mean()))"
   ]
  },
  {
   "cell_type": "code",
   "execution_count": 5,
   "id": "55acfcdf",
   "metadata": {},
   "outputs": [
    {
     "data": {
      "image/png": "[encoded data removed]",
      "text/plain": [
       "<Figure size 600x600 with 2 Axes>"
      ]
     },
     "metadata": {},
     "output_type": "display_data"
    },
    {
     "data": {
      "application/vnd.microsoft.datawrangler.viewer.v0+json": {
       "columns": [
        {
         "name": "index",
         "rawType": "int64",
         "type": "integer"
        },
        {
         "name": "n_cells",
         "rawType": "int64",
         "type": "integer"
        },
        {
         "name": "n_pos",
         "rawType": "int64",
         "type": "integer"
        },
        {
         "name": "pos_rate",
         "rawType": "float64",
         "type": "float"
        },
        {
         "name": "filter_critical",
         "rawType": "bool",
         "type": "boolean"
        },
        {
         "name": "critical_set",
         "rawType": "object",
         "type": "string"
        }
       ],
       "ref": "810cee45-aad8-479f-a08a-36c57edee638",
       "rows": [
        [
         "0",
         "7646",
         "666",
         "0.08710436829714883",
         "True",
         "CO,CU,LI,NI"
        ]
       ],
       "shape": {
        "columns": 5,
        "rows": 1
       }
      },
      "text/html": [
       "<div>\n",
       "<style scoped>\n",
       "    .dataframe tbody tr th:only-of-type {\n",
       "        vertical-align: middle;\n",
       "    }\n",
       "\n",
       "    .dataframe tbody tr th {\n",
       "        vertical-align: top;\n",
       "    }\n",
       "\n",
       "    .dataframe thead th {\n",
       "        text-align: right;\n",
       "    }\n",
       "</style>\n",
       "<table border=\"1\" class=\"dataframe\">\n",
       "  <thead>\n",
       "    <tr style=\"text-align: right;\">\n",
       "      <th></th>\n",
       "      <th>n_cells</th>\n",
       "      <th>n_pos</th>\n",
       "      <th>pos_rate</th>\n",
       "      <th>filter_critical</th>\n",
       "      <th>critical_set</th>\n",
       "    </tr>\n",
       "  </thead>\n",
       "  <tbody>\n",
       "    <tr>\n",
       "      <th>0</th>\n",
       "      <td>7646</td>\n",
       "      <td>666</td>\n",
       "      <td>0.087104</td>\n",
       "      <td>True</td>\n",
       "      <td>CO,CU,LI,NI</td>\n",
       "    </tr>\n",
       "  </tbody>\n",
       "</table>\n",
       "</div>"
      ],
      "text/plain": [
       "   n_cells  n_pos  pos_rate  filter_critical critical_set\n",
       "0     7646    666  0.087104             True  CO,CU,LI,NI"
      ]
     },
     "metadata": {},
     "output_type": "display_data"
    },
    {
     "name": "stdout",
     "output_type": "stream",
     "text": [
      "Saved c:\\Users\\angel\\ore-exploration-ml\\ore-exploration-ml\\figures\\labels_summary.png and c:\\Users\\angel\\ore-exploration-ml\\ore-exploration-ml\\figures\\labels_summary.csv\n"
     ]
    }
   ],
   "source": [
    "## 5) Quick visualization & summary\n",
    "# 5a) Map (quick sanity)\n",
    "fig, ax = plt.subplots(figsize=(6,6))\n",
    "grid.assign(pos=grid[\"y_label\"]).plot(\n",
    "    column=\"pos\", ax=ax, cmap=\"viridis\", legend=True,\n",
    "    legend_kwds={\"label\": \"Positive (1) / Negative (0)\", \"shrink\": 0.7}\n",
    ")\n",
    "ax.set_title(\"MRDS-derived Labels per Grid Cell\")\n",
    "ax.set_xlabel(\"Longitude\"); ax.set_ylabel(\"Latitude\")\n",
    "plt.tight_layout()\n",
    "plt.savefig(SAVE_FIGURES_PATH / \"labels_summary.png\", dpi=180)\n",
    "plt.show()\n",
    "\n",
    "# 5b) Small table summary\n",
    "summary = pd.DataFrame({\n",
    "    \"n_cells\": [len(grid)],\n",
    "    \"n_pos\": [int(y.sum())],\n",
    "    \"pos_rate\": [float(y.mean())],\n",
    "    \"filter_critical\": [FILTER_CRITICAL],\n",
    "    \"critical_set\": [\",\".join(sorted(CRITICAL_COMMODITIES)) if FILTER_CRITICAL else \"\"],\n",
    "})\n",
    "display(summary)\n",
    "summary.to_csv(SAVE_FIGURES_PATH / \"labels_summary.csv\", index=False)\n",
    "print(f\"Saved {SAVE_FIGURES_PATH / 'labels_summary.png'} and {SAVE_FIGURES_PATH / 'labels_summary.csv'}\")\n",
    "\n",
    "np.save(project_root / \"data/processed/y_labels_crit.npy\", y)\n",
    "with open(project_root / \"data/processed/labels_meta.txt\",\"w\") as f:\n",
    "    f.write(\"source=MRDS\\nfilter_critical=True\\ncommodities=CU,NI,CO,LI\\n\")"
   ]
  }
 ],
 "metadata": {
  "kernelspec": {
   "display_name": "cpu",
   "language": "python",
   "name": "python3"
  },
  "language_info": {
   "codemirror_mode": {
    "name": "ipython",
    "version": 3
   },
   "file_extension": ".py",
   "mimetype": "text/x-python",
   "name": "python",
   "nbconvert_exporter": "python",
   "pygments_lexer": "ipython3",
   "version": "3.13.1"
  }
 },
 "nbformat": 4,
 "nbformat_minor": 5
}
