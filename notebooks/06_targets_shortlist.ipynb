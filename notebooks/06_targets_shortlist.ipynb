{
 "cells": [
  {
   "cell_type": "markdown",
   "id": "5828e75c",
   "metadata": {},
   "source": [
    "# 06 – Target shortlist (High anomaly, manageable uncertainty)\n",
    "Trains a calibrated RF, combines with Bayesian mean & uncertainty,\n",
    "and outputs data/processed/targets.csv (top 50 by RF prob, filtered by lower 60% Bayes uncertainty)\n"
   ]
  },
  {
   "cell_type": "code",
   "execution_count": 1,
   "id": "6cacc9ea",
   "metadata": {},
   "outputs": [
    {
     "name": "stdout",
     "output_type": "stream",
     "text": [
      "Saved data/processed/targets.csv (top 50 with moderate uncertainty)\n"
     ]
    },
    {
     "name": "stderr",
     "output_type": "stream",
     "text": [
      "C:\\Users\\angel\\AppData\\Local\\Temp\\ipykernel_41676\\1164998784.py:63: UserWarning: Geometry is in a geographic CRS. Results from 'centroid' are likely incorrect. Use 'GeoSeries.to_crs()' to re-project geometries to a projected CRS before this operation.\n",
      "\n",
      "  targets['lon'] = targets.geometry.centroid.x\n",
      "C:\\Users\\angel\\AppData\\Local\\Temp\\ipykernel_41676\\1164998784.py:64: UserWarning: Geometry is in a geographic CRS. Results from 'centroid' are likely incorrect. Use 'GeoSeries.to_crs()' to re-project geometries to a projected CRS before this operation.\n",
      "\n",
      "  targets['lat'] = targets.geometry.centroid.y\n"
     ]
    }
   ],
   "source": [
    "\n",
    "import os\n",
    "import numpy as np\n",
    "import joblib\n",
    "import pandas as pd\n",
    "from sklearn.ensemble import RandomForestClassifier\n",
    "from sklearn.calibration import CalibratedClassifierCV\n",
    "from pathlib import Path\n",
    "\n",
    "project_root = Path.cwd().parent\n",
    "\n",
    "# Load\n",
    "Xc = np.load(project_root / 'data/processed/X_coords.npy')\n",
    "y  = np.load(project_root / 'data/processed/y_labels.npy')\n",
    "grid = joblib.load(project_root / 'data/processed/grid_gdf.joblib')\n",
    "\n",
    "parts = [Xc]\n",
    "\n",
    "if os.path.exists(project_root / 'data/processed/X_geo.npy'):\n",
    "    Xg = np.load(project_root / 'data/processed/X_geo.npy')\n",
    "    if Xg.shape[0] == Xc.shape[0]:\n",
    "        parts.append(Xg)\n",
    "\n",
    "if os.path.exists(project_root / 'data/processed/X_gravity.npy'):\n",
    "    Xgrav = np.load(project_root / 'data/processed/X_gravity.npy').reshape(-1,1)\n",
    "    if Xgrav.shape[0] == Xc.shape[0]:\n",
    "        parts.append(Xgrav)\n",
    "\n",
    "if os.path.exists(project_root / 'data/processed/X_gravity_grad.npy'):\n",
    "    Xgg = np.load(project_root / 'data/processed/X_gravity_grad.npy').reshape(-1,1)\n",
    "    if Xgg.shape[0] == Xc.shape[0]:\n",
    "        parts.append(Xgg)\n",
    "\n",
    "X = np.hstack(parts)\n",
    "\n",
    "# Calibrated RF (isotonic)\n",
    "rf = RandomForestClassifier(n_estimators=500, random_state=42, n_jobs=-1)\n",
    "cal = CalibratedClassifierCV(rf, method=\"isotonic\", cv=5)\n",
    "cal.fit(X, y)\n",
    "rf_probs = cal.predict_proba(X)[:,1]\n",
    "\n",
    "# Load Bayes outputs\n",
    "mean_path = project_root / 'data/processed/mean_probs.npy'\n",
    "std_path  = project_root / 'data/processed/std_probs.npy'\n",
    "if not (os.path.exists(mean_path) and os.path.exists(std_path)):\n",
    "    raise FileNotFoundError(\"Run 04_bayesian_logreg.ipynb to produce mean/std arrays.\")\n",
    "\n",
    "bayes_mean = np.load(mean_path)\n",
    "bayes_std  = np.load(std_path)\n",
    "\n",
    "# Assemble and filter\n",
    "df = grid.copy()\n",
    "df['rf_p'] = rf_probs\n",
    "df['bayes_mean'] = bayes_mean\n",
    "df['bayes_std'] = bayes_std\n",
    "\n",
    "unc_thresh = float(np.nanquantile(df['bayes_std'], 0.6))  # lower 60% uncertainty\n",
    "targets = (df.query('bayes_std <= @unc_thresh')\n",
    "             .sort_values('rf_p', ascending=False)\n",
    "             .head(50)\n",
    "             .copy())\n",
    "\n",
    "# Write a portable CSV (centroids instead of WKT geometries)\n",
    "targets['lon'] = targets.geometry.centroid.x\n",
    "targets['lat'] = targets.geometry.centroid.y\n",
    "out_cols = ['lon','lat','rf_p','bayes_mean','bayes_std']\n",
    "os.makedirs(project_root / \"data/processed\", exist_ok=True)\n",
    "targets[out_cols].to_csv(project_root / 'data/processed/targets.csv', index=False)\n",
    "print(\"Saved data/processed/targets.csv (top 50 with moderate uncertainty)\")\n"
   ]
  }
 ],
 "metadata": {
  "kernelspec": {
   "display_name": "cpu",
   "language": "python",
   "name": "python3"
  },
  "language_info": {
   "codemirror_mode": {
    "name": "ipython",
    "version": 3
   },
   "file_extension": ".py",
   "mimetype": "text/x-python",
   "name": "python",
   "nbconvert_exporter": "python",
   "pygments_lexer": "ipython3",
   "version": "3.13.1"
  }
 },
 "nbformat": 4,
 "nbformat_minor": 5
}
