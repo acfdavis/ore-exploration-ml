{
  "cells": [
    {
      "cell_type": "markdown",
      "metadata": {},
      "source": [
        "# 01b – Fetch Geology (USGS SGMC)\n",
        "\n",
        "This notebook fetches **bedrock geology polygons** from an ArcGIS endpoint (USGS SGMC) for your state's bbox\n",
        "and saves them to `data/raw/state_geology.gpkg` for use in `02b_geology_features.ipynb`.\n",
        "\n",
        "> If the default URL fails, paste a working state/region ArcGIS query endpoint ending with `/query`."
      ]
    },
    {
      "cell_type": "code",
      "execution_count": 4,
      "id": "bc35f4da",
      "metadata": {},
      "outputs": [
        {
          "name": "stdout",
          "output_type": "stream",
          "text": [
            "Note: you may need to restart the kernel to use updated packages.\n"
          ]
        }
      ],
      "source": [
        "%pip install -q -r ../requirements.txt"
      ]
    },
    {
      "cell_type": "code",
      "execution_count": 5,
      "id": "9854d8da",
      "metadata": {},
      "outputs": [
        {
          "name": "stdout",
          "output_type": "stream",
          "text": [
            "Using bbox: (np.float64(-95.97858), np.float64(36.14839), np.float64(-89.12676), np.float64(40.58562))\n",
            "Querying: https://gis.dnr.mo.gov/host/rest/services/geology/surficial_geology/MapServer/0/query\n",
            "Fetched polygons: 439\n",
            "Saved to data/raw/state_geology.gpkg\n"
          ]
        },
        {
          "data": {
            "text/plain": [
              "'https://gis.dnr.mo.gov/host/rest/services/geology/surficial_geology/MapServer/0/query?where=1%3D1&geometry=-95.97858%2C36.14839%2C-89.12676%2C40.58562&geometryType=esriGeometryEnvelope&inSR=4326&spatialRel=esriSpatialRelIntersects&outFields=%2A&returnGeometry=true&f=geojson'"
            ]
          },
          "execution_count": 5,
          "metadata": {},
          "output_type": "execute_result"
        }
      ],
      "source": [
        "import sys\n",
        "from pathlib import Path\n",
        "\n",
        "# Add the project root to sys.path so 'src' can be imported\n",
        "project_root = Path.cwd().parent\n",
        "if str(project_root) not in sys.path:\n",
        "\tsys.path.append(str(project_root))\n",
        " \n",
        "from src.data_utils import bounding_box_for_state\n",
        "from src.sgmc_fetch import fetch_sgmc_by_bbox, DEFAULT_SGMC_QUERY_URL\n",
        "\n",
        "STATE = 'Missouri'\n",
        "bbox = bounding_box_for_state(STATE)\n",
        "print('Using bbox:', bbox)\n",
        "print('Querying:', DEFAULT_SGMC_QUERY_URL)\n",
        "res = fetch_sgmc_by_bbox(bbox)\n",
        "print('Fetched polygons:', len(res.gdf))\n",
        "print('Saved to data/raw/state_geology.gpkg')\n",
        "res.url"
      ]
    },
    {
      "cell_type": "markdown",
      "id": "d217e7fa",
      "metadata": {},
      "source": [
        "If you get an auth or service error, try a different endpoint (state agency or USGS service) and set it explicitly:"
      ]
    },
    {
      "cell_type": "code",
      "execution_count": 6,
      "id": "7e15ab6a",
      "metadata": {},
      "outputs": [
        {
          "data": {
            "text/plain": [
              "439"
            ]
          },
          "execution_count": 6,
          "metadata": {},
          "output_type": "execute_result"
        }
      ],
      "source": [
        "# Example: custom URL\n",
        "CUSTOM_URL = DEFAULT_SGMC_QUERY_URL  # replace if needed\n",
        "res = fetch_sgmc_by_bbox(bbox, base_url=CUSTOM_URL)\n",
        "len(res.gdf)"
      ]
    },
    {
      "cell_type": "code",
      "execution_count": null,
      "id": "cd90bb74",
      "metadata": {},
      "outputs": [],
      "source": []
    }
  ],
  "metadata": {
    "kernelspec": {
      "display_name": "cpu",
      "language": "python",
      "name": "python3"
    },
    "language_info": {
      "codemirror_mode": {
        "name": "ipython",
        "version": 3
      },
      "file_extension": ".py",
      "mimetype": "text/x-python",
      "name": "python",
      "nbconvert_exporter": "python",
      "pygments_lexer": "ipython3",
      "version": "3.13.1"
    }
  },
  "nbformat": 4,
  "nbformat_minor": 5
}
